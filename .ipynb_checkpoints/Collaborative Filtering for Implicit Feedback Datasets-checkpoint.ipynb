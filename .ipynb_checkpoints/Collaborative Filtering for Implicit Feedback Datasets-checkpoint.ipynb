{
 "cells": [
  {
   "cell_type": "markdown",
   "metadata": {},
   "source": [
    "# 1 introduction\n",
    "\n",
    "### implicit data의 특징\n",
    "\n",
    "- NO Negative feed back\n",
    "    - missing data를 omit 하는 접근을 사용 불가능.. 왜냐면 real positive feedback이 아니므로\n",
    "    - it is crucial to address also the missing data, which is\n",
    "where most negative feedback is expected to be found.\n",
    "\n",
    "- Implicit feedback is inherently noisy.\n",
    "    - this does\n",
    "not necessarily indicate a positive view of the product ( 선물로 살수도 있고 사놓고 불만족 할 수도 있다)\n",
    "   \n",
    "- the numerical value of implicit\n",
    "feedback indicates confidence.\n",
    "    - it tells us about the confidence that we\n",
    "have in a certain observation.\n",
    "    - 한번 일어나는 이벤트는 preference가 아닌 다른 이유에 의해 일어날 수 있지만 반복적인 이벤트는.. user의 opinion을 반영한다.\n",
    "    \n",
    "- Evaluation of implicit-feedback recommender requires\n",
    "appropriatemeasures.\n",
    "\n",
    "    - implicit models we have to\n",
    "take into account availability of the item,"
   ]
  },
  {
   "cell_type": "markdown",
   "metadata": {},
   "source": [
    "# 2 Preliminaries\n",
    "\n",
    "For implicit feedback datasets, values would indicate observations for user actions."
   ]
  },
  {
   "cell_type": "markdown",
   "metadata": {},
   "source": [
    "# 4 Our model\n",
    "\n",
    "we need to formalize the notion of confidence which the r_ui variables measure.\n",
    "\n",
    "$ p_{ui} = \\{ 1 | r_{ui} >0 , 0 | r_{ui} =0\\}$\n",
    "\n",
    "p_ui indicates the preference of user u to item i\n",
    "\n",
    "\n",
    "만약 user u 가 i를 구입했다면 우리는 u likes i 라는 하나의 지표를 가진 것..\n",
    "\n",
    "만약 user u 가 i를 구입하지 않았다면 we believe no preference\n",
    "\n",
    "하지만 진짜 안좋아해서 구입하지 않은 것일수도 있고 안 좋아하는데 선물하려고 구입한 것일수도 있으므로 confidence level을 다르게 가져갈 필요가 있다.\n",
    "\n",
    "그러기 위해 c_ui 를 도입. 이것은 p_ui 에 대한 우리의 확신?신뢰? 를 측정하는 것\n",
    "\n",
    "$c_{ui} = 1 + \\alpha_{ui}$\n",
    "\n",
    "이건.. 우리가 p_ui 에 대한 어떤 최소한의 확신을 가지고 있다는 것이다. 우리가 더 많은 positive preference 에대한 데이터를 관찰하면 우리의 cinfidence in p_ui =1 은 증가할 것이고 그런 증가율이 상수인 알파에 의해 조절된다.\n",
    "\n",
    "\n"
   ]
  },
  {
   "cell_type": "markdown",
   "metadata": {},
   "source": [
    "Collaborative Filtering for Implicit Feedback Datasets\n",
    "\n",
    "\n",
    "1, exlplicit feedback 이 아닌 implicit 이므로 다른 접근이 필요한데.. 그래서 confidence vector를 정의... \n",
    "\n",
    "이렇게 해야 하는 이유는 implicit data의 특징때문인데 이것이.. 진짜 유저가 선호해서 산것이 아닐 수 있음 유저가 좋아해서 산것이 아니고 선물을 줄려고 산 것일 수도 있고 좋아해서 샀더라도 만족 안 할 수도 있음\n",
    "\n",
    "그리고 가장 중요한 것은 item 의 이용 가능성도 고려해야 한다고 하는데 우리 데이터에 필요한 말인듯 즉 스포츠카를 1대 사는 것과 칫솔 1개를 사는 것이 같은 선호를 표현한다고 볼 수 없음 ... 가격(이용가능성) 을 고려해야함...\n",
    "\n",
    "예를들어 우리가 이걸가지고 우리 데이터에 적용한다고 하면 confidence vector에 가격이라는 요소를 집어넣어야 하는게 맞을 것 같다..\n",
    "\n",
    "2, 그거 가지고 똑같이 MF 적용"
   ]
  },
  {
   "cell_type": "markdown",
   "metadata": {},
   "source": [
    "$C_{ui} = 1+\\alpha r_{ui} $ 여기에는 log(가격) 텀을 추가하는 것은..어떨지 \n",
    "\n",
    "${min}_{P,B}\\, L_{RC}(P,B) = \\sum {c_{ui}(r_{ui} - P^T_UB^Ta_i)^2 + \\lambda (\\sum_u {||p_u||}^2 + r\\sum_i {||B||}^2)}$\n",
    "\n",
    "$\\bigtriangleup_u^{Bc} \\propto \\sum{ -c_{ui}(r_{ui}- P^T_UB^Ta_i)}B^Ta_i + \\lambda p_u$\n",
    "\n",
    "$\\bigtriangleup_B^{Bc} \\propto \\sum{ -c_{ui}(r_{ui}- P^T_UB^Ta_i)}a_ip_u^T + \\lambda B$"
   ]
  },
  {
   "cell_type": "markdown",
   "metadata": {},
   "source": [
    "$C_{ui} = 1+\\alpha r_{ui} $ 여기에는 log(가격) 텀을 추가하는 것은..어떨지 \n",
    "\n",
    "우리는 유저피처가 있으니깐... P =AB 로 놔야하네.\n",
    "\n",
    "${min}_{P,B}\\, L_{RC}(P,B) = \\sum {c_{ui}(r_{ui} - B^Ta_iQ^T_U)^2 + \\lambda (\\sum_u {||Q_u||}^2 + r\\sum_i {||B||}^2)}$\n",
    "\n",
    "$\\bigtriangleup_u^{Bc} \\propto \\sum{ -c_{ui}(r_{ui}- B^Ta_iQ^T_U)}B^Ta_i + \\lambda q_u$\n",
    "\n",
    "$\\bigtriangleup_B^{Bc} \\propto \\sum{ -c_{ui}(r_{ui}- B^Ta_iQ^T_U)}a_iq_u^T + \\lambda B$"
   ]
  },
  {
   "cell_type": "markdown",
   "metadata": {},
   "source": [
    "-------------------------------------------------\n",
    "X=AB 이면\n",
    "a_n - n번째 유저의 attribute vector\n",
    "\n",
    "# $ \\underset{(n\\times m)}R \\propto \\underset{(n\\times f)}X\\underset{(f\\times m)}Y^T = \\underset{(n\\times d)}A\\underset{(d\\times f)}B\\underset{(f\\times m)}Y^T= \\begin{bmatrix} a_1 \\\\ a_2 \\\\ a_3 \\\\ ... \\\\ a_n\\end{bmatrix}BY^T = \\begin{bmatrix} a_1B \\\\ a_2B \\\\ a_3B \\\\ ... \\\\ a_nB\\end{bmatrix}Y^T$"
   ]
  },
  {
   "cell_type": "markdown",
   "metadata": {},
   "source": [
    "### Alternative gradient\n",
    "\n",
    "Y is fixed\n",
    "\n",
    "i 번째 유저에 대한 코스트\n",
    "# $J(B) = \\underset{(m\\times m)}{C_u^i}\\lVert \\underset{(1\\times m)}{p_i} - \\underset{(1\\times d)}{a_u}\\underset{(d\\times f)}B\\underset{(f\\times m)}Y^T\\rVert + \\lambda \\lVert B \\rVert$\n",
    "\n",
    "\n",
    "X=AB is fixed  \n",
    "\n",
    "j 번째 아이템에 대한 코스트\n",
    "# $J(y_j) = \\underset{(n\\times n)}{C_u^i}\\lVert \\underset{(n\\times 1)}{p_i} - \\underset{(n\\times d)}{A}\\underset{(d\\times f)}B\\underset{(f\\times 1)}{y_j^T}\\rVert + \\lambda \\lVert y_j \\rVert$"
   ]
  },
  {
   "cell_type": "markdown",
   "metadata": {},
   "source": [
    "미분위해서 식을 전개!!\n",
    "\n",
    "# $J(B) = {C_u^i}\\lVert{p_i} - {a_u}BY^T\\rVert + \\lambda \\lVert B \\rVert$\n",
    "\n",
    "$ = {C_u^i}({p_i} - {a_u}BY^T)({p_i} - {a_u}BY^T)^T + \\lambda \\lVert B \\rVert$ - norm을 행벡터 끼리의 내적으로 표현    \n",
    "$ = ({C_u^i}{p_i} - {C_u^i}{a_u}BY^T)({p_i}^T - YB^T{a_u}^T) + \\lambda \\lVert B \\rVert$ - 분배법칙  과 트랜스포즈 안으로\n",
    "\n",
    "$ = ({C_u^i}{p_i}{p_i}^T - {C_u^i}{p_i}YB^T{a_u}^T - {C_u^i}{a_u}BY^T{p_i}^T + {C_u^i}{a_u}BY^TYB^T{a_u}^T) +  \\lambda \\lVert B \\rVert$ -한번더 분배법칙\n",
    "\n",
    "${C_u^i}{p_i}YB^T{a_u}^T $ 이텀이 (M * M)(1 * M)(M * F)(F * D)(D * 1) 로 대각행렬에 스칼라 곱한형태.. 즉 transpose 취해도 댐 - 또 스칼라랑 대각행렬이니까 순서바꿔도 상관 x\n",
    "\n",
    "\n",
    "$ = ({C_u^i}{p_i}{p_i}^T - 2{a_u}BY^T{p_i}^T{C_u^i} + {C_u^i}{a_u}BY^TYB^T{a_u}^T) +  \\lambda \\lVert B \\rVert$\n"
   ]
  },
  {
   "cell_type": "markdown",
   "metadata": {},
   "source": [
    "미분을 해보자\n",
    "\n",
    "필요한 노테이션\n",
    "http://www2.imm.dtu.dk/pubdb/views/edoc_download.php/3274/pdf/imm3274.pdf\n",
    "<img src='./ficture/수식.PNG' width=600 />\n",
    "\n",
    "$ J(B) = ({C_u^i}{p_i}{p_i}^T - 2{a_u}BY^T{p_i}^T{C_u^i} + {C_u^i}({a_u}BY^TYB^T{a_u}^T) +  \\lambda \\lVert B \\rVert$  \n",
    "\n",
    " \n",
    "# $ \\frac{dJ(B)}{dB} = -2({a_u})^T(Y^T{p_i}^T{C_u^i})^T + ((Y^T{C_u^i}Y)^TB^T{a_u}^T{a_u} +(Y^T{C_u^i}Y)B^T{a_u}^T{a_u})^T +\\lambda B $ \n",
    "\n",
    "- 요기서 Y^T{C_u^i}Y 로 어케가는지 몰겟음... 논문보면 이런 노테이션이맞는데 ㅠㅠ \n",
    "\n",
    "# $ \\frac{dJ(B)}{dB} = -2{a_u}^T{C_u^i}{p_i}Y +  {a_u}^T{a_u}B(Y^T{C_u^i}Y) + {a_u}^T{a_u}B(Y^T{C_u^i}Y)^T +\\lambda B$\n",
    "\n",
    "(D*1)(1*M)(M*M)(M*F) + (D*1)(1*D)(D*F)(F*F) + (D*1)(1*D)(D*F)(F*F)\n",
    "\n",
    "$ \\frac{dJ(B)}{dB} = -2{a_u}^T{C_u^i}{p_i}Y +  {a_u}^T{a_u}B(Y^T{C_u^i}Y) + {a_u}^T{a_u}B(Y^T{C_u^i}Y)^T +\\lambda B   = 0 $으로 두면  \n",
    "${a_u}^T{a_u}B(Y^T{C_u^i}Y) + {a_u}^T{a_u}B(Y^T{C_u^i}Y)^T +\\lambda B = 2{a_u}^T{C_u^i}{p_i}Y$  \n",
    "$2{a_u}^T{a_u}B(Y^T{C_u^i}Y) +\\lambda B = 2{a_u}^T{C_u^i}{p_i}Y$  \n",
    "$2||{a_u}||B(Y^T{C_u^i}Y) +\\lambda B = 2{a_u}^T{C_u^i}{p_i}Y$   \n",
    "# $B = {a_u}^T{C_u^i}{p_i}Y(Y^T{C_u^i}Y+ \\lambda I)^{-1}/||{a_u}||$ \n",
    "\n",
    "맞나..ㅅㅂ"
   ]
  },
  {
   "cell_type": "markdown",
   "metadata": {},
   "source": [
    "미분위해서 식을 전개!!\n",
    "\n",
    "j 번째 아이템에 대한 코스트\n",
    "# $J(y_j) = \\underset{(n\\times n)}{C_u^i}\\lVert \\underset{(n\\times 1)}{p_i} - \\underset{(n\\times d)}{A}\\underset{(d\\times f)}B\\underset{(f\\times 1)}{y_j^T}\\rVert + \\lambda \\lVert y_j \\rVert$\n",
    "\n",
    "$ = {C_u^i}({p_i} - ABy_i^T)^T({p_i} - ABy_i^T) + \\lambda \\lVert y_j\\rVert$ - norm을 열벡터 끼리의 내적으로 표현    \n",
    "\n",
    "$ = {C_u^i}({p_i^T} - y_iB^TA^T)({p_i} - ABy_i^T) + \\lambda \\lVert y_j\\rVert$   \n",
    "$ = ({C_u^i}{p_i^T} - {C_u^i}y_iB^TA^T)({p_i} - ABy_i^T) + \\lambda \\lVert y_j\\rVert$   \n",
    "\n",
    "$ = ({C_u^i}{p_i^T}{p_i} - {C_u^i}{p_i^T}ABy_i^T - {C_u^i}y_iB^TA^T{p_i} + {C_u^i}y_iB^TA^TABy_i^T) + \\lambda \\lVert y_j\\rVert$   \n",
    "$ = ({C_u^i}{p_i^T}{p_i} - 2y_iB^TA^T{p_i}{C_u^i} + {C_u^i}y_iB^TA^TABy_i^T) + \\lambda \\lVert y_j\\rVert$ "
   ]
  },
  {
   "cell_type": "markdown",
   "metadata": {},
   "source": [
    "<img src='./ficture/수실2.PNG' width=600 />"
   ]
  },
  {
   "cell_type": "markdown",
   "metadata": {},
   "source": [
    "# $ \\frac{dJ(y_i)}{dy_i} = -2B^TA^Tp_i{C_u^i} + 2B^TA^T{C_u^i}AB{y_i}^T + \\lambda Y $"
   ]
  }
 ],
 "metadata": {
  "kernelspec": {
   "display_name": "Python 3",
   "language": "python",
   "name": "python2"
  },
  "language_info": {
   "codemirror_mode": {
    "name": "ipython",
    "version": 3
   },
   "file_extension": ".py",
   "mimetype": "text/x-python",
   "name": "python",
   "nbconvert_exporter": "python",
   "pygments_lexer": "ipython3",
   "version": "3.5.2"
  }
 },
 "nbformat": 4,
 "nbformat_minor": 0
}
