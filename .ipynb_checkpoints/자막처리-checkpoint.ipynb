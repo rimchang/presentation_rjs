{
 "cells": [
  {
   "cell_type": "code",
   "execution_count": 190,
   "metadata": {
    "collapsed": false
   },
   "outputs": [],
   "source": [
    "f = open(\"D:/학교/mit/일본어_smi1/일본어_smi/17.txt\", 'r', encoding=\"utf-8\")"
   ]
  },
  {
   "cell_type": "code",
   "execution_count": 191,
   "metadata": {
    "collapsed": false
   },
   "outputs": [],
   "source": [
    "text=f.read()"
   ]
  },
  {
   "cell_type": "code",
   "execution_count": 192,
   "metadata": {
    "collapsed": false
   },
   "outputs": [],
   "source": [
    "new_text=text\n",
    "for i in range(3000):\n",
    "    new_text = new_text.replace('\\n\\n0', str(i+1)+'\\n0',1)\n"
   ]
  },
  {
   "cell_type": "code",
   "execution_count": 194,
   "metadata": {
    "collapsed": false
   },
   "outputs": [
    {
     "data": {
      "text/plain": [
       "<function TextIOWrapper.close>"
      ]
     },
     "execution_count": 194,
     "metadata": {},
     "output_type": "execute_result"
    }
   ],
   "source": [
    "f.close"
   ]
  },
  {
   "cell_type": "code",
   "execution_count": 196,
   "metadata": {
    "collapsed": false
   },
   "outputs": [
    {
     "data": {
      "text/plain": [
       "<function TextIOWrapper.close>"
      ]
     },
     "execution_count": 196,
     "metadata": {},
     "output_type": "execute_result"
    }
   ],
   "source": [
    "f = open(\"D:/학교/mit/일본어_smi1/일본어_smi/17_srt.txt\", 'w', encoding=\"utf-8\")\n",
    "f.write(new_text)\n",
    "f.close"
   ]
  },
  {
   "cell_type": "code",
   "execution_count": 73,
   "metadata": {
    "collapsed": false
   },
   "outputs": [],
   "source": [
    "import re\n",
    "\n",
    "list=[\"17\"]\n",
    "for i in list:\n",
    "    f = open(\"D:/학교/mit/일본어_smi1/일본어_smi/\"+i+\".txt\", 'r', encoding=\"utf-8\")\n",
    "    text=f.read()\n",
    "    new_text=text\n",
    "    for j in range(3000):\n",
    "        new_text = new_text.replace('\\n\\n0', '\\n\\t\\n'+str(j+1)+'\\n\\t\\n00',1)\n",
    "    new_text = new_text.replace('.',',')\n",
    "    new_text = new_text.replace('->0','-->00')\n",
    "    new_text = new_text.replace('\\t','')\n",
    "    new_text = new_text.replace('-->','Thisisarrowg')\n",
    "    new_text = new_text.replace('->','')\n",
    "    new_text = new_text.replace('Thisisarrowg','-->')\n",
    "    #p=re.compile('')\n",
    "    p=re.compile('[ㄱ-ㅎ|ㅏ-ㅣ|가-힣]-->')\n",
    "    new_text=p.sub('',new_text)\n",
    "    p=re.compile('[a-z|A-Z]-->')\n",
    "    new_text=p.sub('',new_text)\n",
    "    p=re.compile('[^0-9]-->')\n",
    "    new_text=p.sub('',new_text)\n",
    "    p=re.compile('[^0-9][0-9]-->')\n",
    "    new_text=p.sub('',new_text)\n",
    "    p=re.compile('[^0-9][0-9][0-9]-->')\n",
    "    new_text=p.sub('',new_text)\n",
    "\n",
    "    \n",
    "    \n",
    "    f.close\n",
    "    f = open(\"D:/학교/mit/일본어_smi1/일본어_smi/\"+i+\"_srt.txt\", 'w', encoding=\"utf-8\")\n",
    "    f.write(new_text)\n",
    "    f.close\n",
    "    \n",
    "list =[\"18\",\"19\",\"20\",\"21\",\"22\",\"23\"]\n",
    "for i in list:\n",
    "    f = open(\"D:/학교/mit/일본어_smi1/일본어_smi/\"+i+\".txt\", 'r', encoding=\"utf-8\")\n",
    "    text=f.read()\n",
    "    new_text=text\n",
    "    for j in range(3000):\n",
    "        new_text = new_text.replace('\\n\\n0', '\\n\\t\\n'+str(j+1)+'\\n\\t\\n00',1)\n",
    "    #new_text = new_text.replace(',','-->0')\n",
    "    new_text = new_text.replace(',0 :','-->00 :')\n",
    "    new_text = new_text.replace('.',',')\n",
    "    new_text = new_text.replace('\\t','')\n",
    "    \n",
    "    new_text = new_text.replace('-->','Thisisarrowg')\n",
    "    new_text = new_text.replace('->','')\n",
    "    new_text = new_text.replace('Thisisarrowg','-->')\n",
    "    #p=re.compile('')\n",
    "    p=re.compile('[^0-9]-->')\n",
    "    new_text=p.sub('',new_text)\n",
    "    p=re.compile('[^0-9][0-9]-->')\n",
    "    new_text=p.sub('',new_text)\n",
    "    p=re.compile('[^0-9][0-9][0-9]-->')\n",
    "    new_text=p.sub('',new_text)\n",
    "    p=re.compile('[^0-9][^0-9][^0-9][^0-9][^0]-->[^0][^0][^ ][^:][^ ]')\n",
    "    new_text=p.sub('',new_text)\n",
    "    p=re.compile('-->[^0][^0]')\n",
    "    new_text=p.sub('',new_text)\n",
    "\n",
    "    f.close\n",
    "    f = open(\"D:/학교/mit/일본어_smi1/일본어_smi/\"+i+\"_srt.txt\", 'w', encoding=\"utf-8\")\n",
    "    f.write(new_text)\n",
    "    f.close\n",
    "    "
   ]
  },
  {
   "cell_type": "code",
   "execution_count": 68,
   "metadata": {
    "collapsed": false
   },
   "outputs": [
    {
     "data": {
      "text/plain": [
       "'사실은 그냥 좋은 테스트 환경에 값을 넣고 100-->0200-->01000 번 테스트를 수행 할 것입니다'"
      ]
     },
     "execution_count": 68,
     "metadata": {},
     "output_type": "execute_result"
    }
   ],
   "source": [
    "p=re.compile('-->[^0][^0][^ ]')\n",
    "new_text=p.sub('',\"사실은 그냥 좋은 테스트 환경에 값을 넣고 100-->0200-->01000 번 테스트를 수행 할 것입니다\")\n",
    "new_text"
   ]
  },
  {
   "cell_type": "code",
   "execution_count": null,
   "metadata": {
    "collapsed": true
   },
   "outputs": [],
   "source": []
  }
 ],
 "metadata": {
  "kernelspec": {
   "display_name": "Python 3",
   "language": "python",
   "name": "python3"
  },
  "language_info": {
   "codemirror_mode": {
    "name": "ipython",
    "version": 3
   },
   "file_extension": ".py",
   "mimetype": "text/x-python",
   "name": "python",
   "nbconvert_exporter": "python",
   "pygments_lexer": "ipython3",
   "version": "3.5.2"
  }
 },
 "nbformat": 4,
 "nbformat_minor": 0
}
