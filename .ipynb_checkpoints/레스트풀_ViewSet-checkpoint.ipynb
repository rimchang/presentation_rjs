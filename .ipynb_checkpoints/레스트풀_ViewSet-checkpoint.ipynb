{
 "cells": [
  {
   "cell_type": "markdown",
   "metadata": {},
   "source": [
    "# ViewSets\n",
    "\n",
    "django REST framework 는 허락한다. 너에게 하나의 클래스 안에서 연관된 view들의 결합 로직을 ViewSet 으로 .... 다른 프레임웤에서 너는 찾을 수 있을텐데 비슷한것을 Resources or Controllers 라고 구현되어 있다\n",
    "\n",
    "ViewSet 클래스는 간단하게는 하나의 클래스 베이스드 view 인데 get()과 post()를 제공하지 않는다 대신에 list()와 create()를 제공한다\n",
    "\n",
    "이 ViewSet의 메소드들은 as_view() 메소드의 마지막 지점에서 행동한다\n",
    "\n",
    "전형적으로 urlconf를 명시하지 않고 router를 사용한다 \n",
    "\n",
    "\n",
    "```python\n",
    "class UserViewSet(viewsets.ModelViewSet):\n",
    "    \"\"\"\n",
    "    A viewset for viewing and editing user instances.\n",
    "    \"\"\"\n",
    "    serializer_class = UserSerializer\n",
    "    queryset = User.objects.all()\n",
    "```\n",
    "\n",
    "# ViewSet class 의 두가지 장점\n",
    "\n",
    "- Repeated logic can be combined into a single class. In the above example, we only need to specify the queryset once, and it'll be used across multiple views.\n",
    "    - 반복된 로직이 하나의 클래스에 결합된다. 위의 example에서 우리는 queryset만을 명시하면 이것은 다양한 view?로 사용된다???\n",
    "- By using routers, we no longer need to deal with wiring up the URL conf ourselves.\n",
    "    - 라우터를 사용하면 url 정의하는데 고민안해도 된다.\n",
    "    \n",
    "이런 것들은 trade-off 인데 regular views를 사용하면 더 명시적이고 컨트롤 할게 많아진다 ViewSet은 매우 도움이 되는데 속도가 중요하거나 매우큰 API 라서 URL을 강제하고 싶을떄??? URL 스타일이 알아서 정의되니가 그런 고민이 필요없나보다..하튼 빠르대 좋은거같은데/\n",
    "\n",
    "The actions provided by the ModelViewSet class are .list(), .retrieve(), .create(), .update(), .partial_update(), and .destroy().\n",
    "\n",
    "나머지부분은 http://brownbears.tistory.com/82 이랑 비슷하네 생략!\n",
    "\n"
   ]
  },
  {
   "cell_type": "code",
   "execution_count": null,
   "metadata": {
    "collapsed": true
   },
   "outputs": [],
   "source": []
  }
 ],
 "metadata": {
  "kernelspec": {
   "display_name": "Python 3",
   "language": "python",
   "name": "python3"
  },
  "language_info": {
   "codemirror_mode": {
    "name": "ipython",
    "version": 3
   },
   "file_extension": ".py",
   "mimetype": "text/x-python",
   "name": "python",
   "nbconvert_exporter": "python",
   "pygments_lexer": "ipython3",
   "version": "3.5.2"
  }
 },
 "nbformat": 4,
 "nbformat_minor": 0
}
