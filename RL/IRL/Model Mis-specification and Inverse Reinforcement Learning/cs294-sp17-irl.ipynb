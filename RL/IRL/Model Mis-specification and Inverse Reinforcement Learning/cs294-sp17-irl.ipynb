{
 "cells": [
  {
   "cell_type": "markdown",
   "metadata": {},
   "source": [
    "<img src=\"./whiteboard1.png\">"
   ]
  },
  {
   "cell_type": "markdown",
   "metadata": {},
   "source": [
    "# Maximum Entropy Inverse RL\n",
    "\n",
    "앞으로\n",
    "크로스 엔트로피의 수식을 유도할 것이다. \n",
    "\n",
    "$ P( \\tau ) \\propto e^{-c(\\tau)}$\n",
    "\n",
    "위의 의미는 c(\\Tau) 가 높은 cost를 가지면 낮은 likelihood 를 가지도록 하는 어떤 exponential function family 를 p(\\tau)로 할 것이라는 뜻.\n",
    "\n",
    "log likelihood 를 최대화 하자!\n",
    "\n",
    "$\\theta = argmax_{\\theta} log \\prod_{\\tau_{d} \\in D} p(\\tau_{d})$  \n",
    "\n",
    "-붙여서 최소화 문제로 바꾸고.. 수식전개의 편리함을 위해 1/M 텀.. 1/Z 는 normalization term\n",
    "\n",
    "$ Z = \\sum_{\\tau} e^{-c(\\tau)} $\n",
    "\n",
    "$\\theta = argmin_{\\theta} - \\frac{1}{M}\\sum_{\\tau_{d}} log  \\frac{1}{Z} e^{-c(\\tau_d)}$ \n",
    "\n",
    "\n",
    "$L= \\frac{1}{M}\\sum_{\\tau_{d}} c(\\tau_d) + log \\sum_{\\tau} e^{-c(\\tau)}$   \n",
    "$\\frac{d\\theta} {d}L= \\frac{1}{M}\\sum_{\\tau_{d}}\\frac{d\\theta} {d} c(\\tau_d) - \\frac{1}{Z} \\sum_{\\tau}  e^{-c(\\tau)} \\frac{d\\theta} {d} c(\\tau) $ \n",
    "\n",
    "$\\theta = argmin_{\\theta} - \\sum_{\\tau_{d}} log  \\frac{1}{Z} e^{-c(\\tau)}$ \n",
    "Loss function\n",
    "\n",
    "$Min_{\\pi} E_{\\pi}[c(\\tau)] - H(\\pi)$ "
   ]
  }
 ],
 "metadata": {
  "kernelspec": {
   "display_name": "Python 3",
   "language": "python",
   "name": "python3"
  },
  "language_info": {
   "codemirror_mode": {
    "name": "ipython",
    "version": 3
   },
   "file_extension": ".py",
   "mimetype": "text/x-python",
   "name": "python",
   "nbconvert_exporter": "python",
   "pygments_lexer": "ipython3",
   "version": "3.5.2"
  }
 },
 "nbformat": 4,
 "nbformat_minor": 2
}
