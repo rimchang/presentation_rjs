{
 "cells": [
  {
   "cell_type": "markdown",
   "metadata": {},
   "source": [
    "-------------------------------------------------\n",
    "X=AB 이면\n",
    "a_n - n번째 유저의 attribute vector\n",
    "\n",
    "# $ \\underset{(n\\times m)}R \\propto \\underset{(n\\times f)}X\\underset{(f\\times m)}Y^T = \\underset{(n\\times d)}A\\underset{(d\\times f)}B\\underset{(f\\times m)}Y^T= \\begin{bmatrix} a_1 \\\\ a_2 \\\\ a_3 \\\\ ... \\\\ a_n\\end{bmatrix}BY^T = \\begin{bmatrix} a_1B \\\\ a_2B \\\\ a_3B \\\\ ... \\\\ a_nB\\end{bmatrix}Y^T$"
   ]
  },
  {
   "cell_type": "markdown",
   "metadata": {},
   "source": [
    "### Alternative gradient\n",
    "\n",
    "Y is fixed\n",
    "\n",
    "i 번째 유저에 대한 코스트\n",
    "# $J(B) = \\underset{(m\\times 1)}{c_u}\\lVert \\underset{(1\\times m)}{p_i} - \\underset{(1\\times d)}{a_u}\\underset{(d\\times f)}B\\underset{(f\\times m)}Y^T\\rVert + \\lambda \\lVert B \\rVert$"
   ]
  },
  {
   "cell_type": "markdown",
   "metadata": {},
   "source": [
    "------------------------------------------------------------------------------------------------------------\n",
    "\n",
    "C_u 는 n * n diag matrix\n",
    "\n",
    "# $J(B) = ({p_i} - {a_u}BY^T){C_u}({p_i} - {a_u}BY^T)^T + \\lambda \\lVert B \\rVert$ \n",
    "\n",
    "# $ J(B) = ({p_i}{C_u^i}{p_i}^T - 2{p_i}{C_u}YB^T{a_u}^T + {a_u}BY^T{C_u}YB^T{a_u}^T) +  \\lambda BB $\n"
   ]
  },
  {
   "cell_type": "markdown",
   "metadata": {},
   "source": [
    "미분을 해보자\n",
    "\n",
    "필요한 노테이션\n",
    "http://www2.imm.dtu.dk/pubdb/views/edoc_download.php/3274/pdf/imm3274.pdf\n",
    "<img src='./ficture/수식.png' width=600 />\n",
    "\n",
    "$ J(B) = ({p_i}{C_u^i}{p_i}^T - 2{p_i}{C_u}YB^T{a_u}^T + {a_u}BY^T{C_u}YB^T{a_u}^T) +  \\lambda BB $\n",
    "\n",
    "이때.. 미분할시 ${a_u}BY^T{C_u}YB^T{a_u}^T$ 요텀때문에.. B^T 로 미분해줌... 그냥 B로 미분해줄수 있는지 고민했지만 잘 안되는듯.\n",
    "\n",
    "위의 미분식을 적용하면 \n",
    "\n",
    "# $ \\frac{dJ(B)}{dB^T} = -2({p_i}{C_u^i}Y)^T{a_u} + (Y^T{C_u}Y)^TB^T{a_u}^T{a_u} + (Y^T{C_u}Y)B^T{a_u}{a_u}^T + \\lambda 2B^T$  \n",
    "\n",
    "\n",
    "<font color='red'> 빨간 부분 틀렸다....   검은부분이 맞는지좀 봐주세요 ㅠㅠ  \n",
    "\n",
    "# $ = -2(Y^T{C_u^i}{p_i}^T){a_u} + 2(Y^T{C_u}Y)B^T \\lVert {a_u}  \\rVert + \\lambda 2B^T$  \n",
    "\n",
    "미분값 = 0 으로 두고 정리하면!!\n",
    "\n",
    "# $ B^T = \\frac{1}{\\lVert {a_u}  \\rVert} (Y^T{C_u}Y + \\lambda I )^{-1}Y^T{C_u^i}{p_i}^T{a_u} - (f,d) dimension $\n",
    "\n",
    "</font>\n",
    "\n",
    "\n",
    "\n",
    "$ \\frac{dJ(B)}{dB^T} = -2({p_i}{C_u^i}Y)^T{a_u} + (Y^T{C_u}Y)^TB^T{a_u}^T{a_u} + (Y^T{C_u}Y)B^T{a_u}{a_u}^T + \\lambda 2B^T$  \n",
    "\n",
    "미분값 = 0으로 두자\n",
    "\n",
    "흐음 $ {a_u}^T{a_u}$ 랑 ${a_u}{a_u}^T$ 떄문에 B^T로 정리할 수가 없음 ㅠㅠ 어케하지 으악.. 뒤에텀을 통일시켜보도록해보자 {a_u}^T 를 다 곱해줌\n",
    "\n",
    "$ -2({p_i}{C_u^i}Y)^T{a_u}{a_u}^T + (Y^T{C_u}Y)^TB^T{a_u}^T{a_u}{a_u}^T + (Y^T{C_u}Y)B^T{a_u}{a_u}^T{a_u}^T + \\lambda 2B^T{a_u}^T = 0{a_u}^T $   흠.. 그럼 Scalar 0 이 아닌 0 벡터가 되는건가..??? 피드백좀\n",
    "\n",
    "$ -2({p_i}{C_u^i}Y)^T\\lVert {a_u}  \\rVert  + (Y^T{C_u}Y)^TB^T{a_u}^T\\lVert {a_u}  \\rVert  + (Y^T{C_u}Y)B^T\\lVert {a_u}  \\rVert {a_u}^T + \\lambda 2B^T{a_u}^T = 0 $\n",
    "\n",
    "  만약에 scalar 0 * vecotr 가 0벡터가 된다면..{a_u}^T를 곱했으니..(d X 1) 이 되는건가..?? 그렇다면 밑에처럼 넘겨주는게 가능함??? 이게 되는거야 마는거야 \n",
    "\n",
    "\n",
    "$  (Y^T{C_u}Y)^TB^T{a_u}^T\\lVert {a_u}  \\rVert  + (Y^T{C_u}Y)B^T\\lVert {a_u}  \\rVert {a_u}^T + \\lambda 2B^T{a_u}^T = 2({p_i}{C_u}Y)^T\\lVert {a_u}  \\rVert  $   벡터의 곱셈이 역원이 존재함?? 안하지 않나??? {a_u} 도 곱해버릴까..? \n",
    "\n",
    "$  (Y^T{C_u}Y)^TB^T{a_u}^T\\lVert {a_u}  \\rVert {a_u}  + (Y^T{C_u}Y)B^T\\lVert {a_u}  \\rVert {a_u}^T{a_u} + \\lambda 2B^T{a_u}^T{a_u} = 2({p_i}{C_u}Y)^T\\lVert {a_u}  \\rVert{a_u}  $   이제 ${a_u}^T {a_u}$ 역행렬 곱해버리면 되는거??? 맞습니까 ㅠㅠㅠ??? \n",
    "\n",
    "\n",
    "$  (Y^T{C_u}Y)^TB^T\\lVert {a_u} \\rVert   + (Y^T{C_u}Y)B^T\\lVert {a_u}  \\rVert + \\lambda 2B^T = 2Y^T{C_u}{p_i}^T\\lVert {a_u}  \\rVert{a_u}({a_u}^T{a_u})^{-1}  $\n",
    "\n",
    "$  2\\lVert {a_u} \\rVert(Y^T{C_u}Y)B^T  + \\lambda 2B^T = 2\\lVert {a_u}  \\rVert Y^T{C_u}{p_i}^T{a_u}({a_u}^T{a_u})^{-1}  $\n",
    "\n",
    "$  (\\lVert {a_u} \\rVert(Y^T{C_u}Y)B^T  + \\lambda I )B^T = \\lVert {a_u}  \\rVert Y^T{C_u}{p_i}^T{a_u}({a_u}^T{a_u})^{-1}  $\n",
    "\n",
    "$  B^T = \\lVert {a_u}  \\rVert (\\lVert {a_u} \\rVert(Y^T{C_u}Y)B^T  + \\lambda I ))^{-1}Y^T{C_u}{p_i}^T{a_u}({a_u}^T{a_u})^{-1}  $  - (f,d) dimension   괄호안에 norm 뺴버릴 방법이 어디 없을까요? "
   ]
  },
  {
   "cell_type": "markdown",
   "metadata": {},
   "source": [
    "----------------------------------------------------------------------------------------------------\n",
    "\n",
    "X=AB is fixed  \n",
    "\n",
    "j 번째 아이템에 대한 코스트\n",
    "# $J(y_j) = \\underset{(n\\times 1)}{c^J}\\lVert \\underset{(n\\times 1)}{p_i} - \\underset{(n\\times d)}{A}\\underset{(d\\times f)}B\\underset{(f\\times 1)}{y_j^T}\\rVert + \\lambda \\lVert y_j \\rVert$"
   ]
  },
  {
   "cell_type": "markdown",
   "metadata": {},
   "source": [
    "C^J 는 m * m diag matrix\n",
    "\n",
    "# $J(y_j) = ({p_j} - ABy_j^T)^T{C^J}({p_j} - ABy_j^T) + \\lambda \\lVert y_j \\rVert$ \n",
    "\n",
    "# $J(y_j) = ({p_j}^T{C^j}{p_j} - 2{y_j}B^TA^TC^J{p_j} + {y_j}B^TA^T{C^J}AB{y_j}^T) +  \\lambda y_jy_j $"
   ]
  },
  {
   "cell_type": "markdown",
   "metadata": {},
   "source": [
    "<img src='./ficture/수실2.png' width=600 />"
   ]
  },
  {
   "cell_type": "markdown",
   "metadata": {},
   "source": [
    "위의 미분식을 적용하면 \n",
    "\n",
    " $J(y_j) = ({p_j}^T{C^j}{p_j} - 2{y_j}B^TA^TC^J{p_j} + {y_j}B^TA^T{C^J}AB{y_j}^T) +  \\lambda y_jy_j $\n",
    "\n",
    "이떄도 $ {y_j}B^TA^T{C^J}AB{y_j}^T $ 텀떔에 y_j^t 로 미분\n",
    "\n",
    "# $ \\frac{dJ(y_j)}{dy_j^t} = -2B^TA^TC^Jp_j + 2B^TA^TC^JABy_j^t + \\lambda 2y_j^t$\n",
    "\n",
    "미분값 0 으로 두고 식을 정리하면\n",
    "\n",
    "# $ y_j^t = (B^TA^TC^JAB + \\lambda I )^{-1}B^TA^TC^Jp_j - (f,1) dimension $"
   ]
  }
 ],
 "metadata": {
  "kernelspec": {
   "display_name": "Python 3",
   "language": "python",
   "name": "python2"
  },
  "language_info": {
   "codemirror_mode": {
    "name": "ipython",
    "version": 3
   },
   "file_extension": ".py",
   "mimetype": "text/x-python",
   "name": "python",
   "nbconvert_exporter": "python",
   "pygments_lexer": "ipython3",
   "version": "3.5.2"
  }
 },
 "nbformat": 4,
 "nbformat_minor": 0
}
