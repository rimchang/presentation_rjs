{
 "cells": [
  {
   "cell_type": "markdown",
   "metadata": {},
   "source": [
    "# p22\n",
    "\n",
    "\n",
    "\n",
    "<font size=5px>$ V(s) = {E} [ R_{t+1} + \\gamma v( S_{t+1} ) | S_{t} = s  ]    $<font>\n",
    "\n",
    "\n",
    "=> <font size=5px>$ V(s) = {E} [ R_{t+1} | S_{t} = s ] +  {E}[ \\gamma v( S_{t+1} ) | S_{t} = s  ]    $<font>\n",
    "\n",
    "\n",
    "\n",
    "=> <font size=5px>$ V(s) = R_s + \\gamma \\sum_{s' \\in S}P_{ss'}V(s') $<font>\n",
    "\n",
    "NOTE)    \n",
    "  \n",
    "$ {E}[R_{t+1}] = R_s  $   \n",
    "\n",
    "\n",
    "${E}[ \\gamma v( S_{t+1} ) | S_{t} = s  ]  =  \\gamma \\sum_{s' \\in S}P_{ss'}V(s')  $"
   ]
  },
  {
   "cell_type": "markdown",
   "metadata": {},
   "source": [
    "# p33\n",
    "\n",
    "지금까지의 state value function 에 policy 추가\n",
    "\n",
    "<font size=5px>$ q_{\\pi}(s,a) = {E}_{\\pi} [ R_{t+1} +  \\gamma R_{t+2} + \\gamma^2 R_{t+3},,| S_{t} = s , A_t = a ]    $<font>  \n",
    "\n",
    "\n",
    "=> <font size=5px>$ q_{\\pi}(s,a) = {E}_{\\pi} [ R_{t+1} +  \\gamma ( R_{t+2} + \\gamma R_{t+3},,)| S_{t} = s , A_t = a ]    $<font>  \n",
    "\n",
    "\n",
    "=> <font size=5px>$ q_{\\pi}(s,a) = {E}_{\\pi} [ R_{t+1} +  \\gamma ( G_{t+1})| S_{t} = s , A_t = a ]    $<font>  \n",
    "\n",
    "\n",
    "=> <font size=5px>$ q_{\\pi}(s,a) = {E}_{\\pi} [ R_{t+1} + \\gamma q_{\\pi}( S_{t+1} ) | S_{t} = s , A_t = a ]    $<font>  \n",
    "\n"
   ]
  },
  {
   "cell_type": "markdown",
   "metadata": {},
   "source": [
    "-----------------------------------------------------------------------\n",
    "지금까지 봤던... state value functin에 action 추가\n",
    "\n",
    "<font size=5px>$ V_{\\pi}(s) = {E}_{\\pi} [ R_{t+1} + \\gamma v_{\\pi}( S_{t+1} ) | S_{t} = s  ]    $<font>  \n",
    "\n",
    "=> <font size=5px>$ V_{\\pi}(s) = R_s + \\gamma \\sum_{s' \\in S}P_{ss'}V_{\\pi}(s') $<font>\n",
    "\n",
    "특정 action 일때의 state value를 생각해보자.\n",
    "\n",
    "=> <font size=5px>$ V_{\\pi}^a(s) =  R_{s}^a + \\gamma \\sum_{s' \\in S}P_{ss'}^aV_{\\pi}(s')     $<font>\n",
    "\n",
    "=> <font size=5px>$ q_{\\pi} (s,a) =  R_{s}^a + \\gamma \\sum_{s' \\in S}P_{ss'}^aV_{\\pi}(s')    $<font>\n",
    "\n",
    "=> <font size=5px>$ V_{\\pi}(s) = {E}_{\\pi} [ R_{t+1} | S_{t} = s ] +  {E}[ \\gamma v_{\\pi}( S_{t+1} ) | S_{t} = s  ]    $<font>\n",
    "\n",
    "그러면 $ V_{\\pi}(s) $ 다시 표현해보자\n",
    "\n",
    "$ v_{\\pi}(s) = \\sum_{a \\in A} \\pi(a|s)q_{\\pi}(s,a) $"
   ]
  },
  {
   "cell_type": "markdown",
   "metadata": {},
   "source": [
    "-------------------------------------------\n",
    "# p46\n",
    "\n",
    "이번에는 bellman optimality equation 이다...\n",
    "\n",
    "$v_*(s) = max_a q_*(s,a) $ 라고 두고 다시 바꿔보자\n",
    "\n",
    "\n",
    "\n",
    "<font size=5px>$ q_{\\pi} (s,a) =  R_{s}^a + \\gamma \\sum_{s' \\in S}P_{ss'}^aV_{\\pi}(s')    $<font>\n",
    "\n",
    "위의 식 에서 ${\\pi}$ 들이 * 로 바뀐다.. \n",
    "\n",
    "<font size=5px>$ q_{*} (s,a) =  R_{s}^a + \\gamma \\sum_{s' \\in S}P_{ss'}^aV_{*}(s')    $<font>\n",
    "\n",
    "이걸 v*(s) 에 대입하면?\n",
    "\n",
    "$v_*(s) = max_a [R_{s}^a + \\gamma \\sum_{s' \\in S}P_{ss'}^aV_{*}(s')] $"
   ]
  }
 ],
 "metadata": {
  "kernelspec": {
   "display_name": "Python 3",
   "language": "python",
   "name": "python3"
  },
  "language_info": {
   "codemirror_mode": {
    "name": "ipython",
    "version": 3
   },
   "file_extension": ".py",
   "mimetype": "text/x-python",
   "name": "python",
   "nbconvert_exporter": "python",
   "pygments_lexer": "ipython3",
   "version": "3.5.2"
  }
 },
 "nbformat": 4,
 "nbformat_minor": 0
}
