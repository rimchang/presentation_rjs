{
 "cells": [
  {
   "cell_type": "markdown",
   "metadata": {},
   "source": [
    "# Embedding a Machine Learning Model into a Web Application\n",
    "\n",
    "### 이번장의 목표\n",
    "\n",
    "- Saving the current state of a trained machine learning model\n",
    "    - 학습된 머신러닝 모델의 상태를 저장\n",
    "- Using SQLite databases for data storage\n",
    "    - DB로 SQLite 를 사용\n",
    "- Developing a web application using the popular Flask web framework\n",
    "    - Flask를 이용해 web app을 향상시킴\n",
    "- Deploying a machine learning application to a public web server\n",
    "    - 웹서버에 머신러닝 app을 deploy 함\n",
    "    \n",
    "# Serializing(직렬화) fitted scikit-learn estimators\n",
    "\n",
    "머신러닝 모델을 트레이닝 하는 것은 계산적으로 매우 비싸다. 확실히 우리는 우리의 모델을 매번 트레이닝 시키는 것을 원하지 않는다. 하나의 옵션은 <strong>model persistence</strong> 인데 이는 파이썬의 pickle 모듈을 이용한다. 이것은 파이썬 object를 serialize , deserialize 하게 해준다. 그래서 우리는 우리의 classfier를 저장할 수 있고 우리가 새로운 sample이 필요할 때 다시 트레이닝 시키지 않아도 된다. 밑의 예제를 실행하기 전에 ch8 의 코드를 실행 시켜놔라\n",
    "\n",
    "### serializing - python object 를 json같은 웹에서 사용가능한 형식으로 변환\n",
    "\n",
    "### deserializing - json 같은 object를 python 에서 사용가능한 형식으로 변환(dict,list 등)\n",
    "\n",
    "CH8 에서 로지스틱으로 sentiment 분석 했던 모델을 pickle 로 저장해놓고 로드하는 것으로 사용 할 것"
   ]
  },
  {
   "cell_type": "code",
   "execution_count": null,
   "metadata": {
    "collapsed": true
   },
   "outputs": [],
   "source": [
    "from sklearn.feature_extraction.text import HashingVectorizer\n",
    "import re\n",
    "import os\n",
    "import pickle\n",
    "\n",
    "\n",
    "cur_dir = os.path.dirname(__file__)\n",
    "stop = pickle.load(open(\n",
    "                os.path.join(cur_dir,\n",
    "                'pkl_objects',\n",
    "                'stopwords.pkl'), 'rb'))\n",
    "\n",
    "def tokenizer(text):\n",
    "    text = re.sub('<[^>]*>', '', text)\n",
    "    emoticons = re.findall('(?::|;|=)(?:-)?(?:\\)|\\(|D|P)',\n",
    "                           text.lower())\n",
    "    text = re.sub('[\\W]+', ' ', text.lower()) \\\n",
    "                   + ' '.join(emoticons).replace('-', '')\n",
    "    tokenized = [w for w in text.split() if w not in stop]\n",
    "    return tokenized\n",
    "\n",
    "vect = HashingVectorizer(decode_error='ignore',\n",
    "                         n_features=2**21,\n",
    "                         preprocessor=None,\n",
    "                         tokenizer=tokenizer)"
   ]
  },
  {
   "cell_type": "markdown",
   "metadata": {},
   "source": [
    "HasingVectorizer 는 scikit-learn 에서 text 처리의 부분 패키지이다. tfidfvectorize, Hasingvectorizer, countvectorizer 의 종류가 있으며 hasingvectorizer 는 각각 단어의 count를 해줘 vector로 만들어주는 함수인데 countvecotrizer 보다 빠르다\n",
    "\n",
    "위의 코드를 통해 우리는 movieclassifier 디렉토리를 만들고 그안에 우리의 웹 어플리케이션을 위한 파일과 데이터를 저장 할 것이다. moviecalssifier 디렉토리 안에서 우리는 pkl_objects 하위 폴더를 만들고 python object를 직렬화하여 저장 할 것이다. pickle의 dump 메소드를 통해 우리는 ch8에서 만들었던 로지스틱 리그레션 모델과 Nltk 의 stop word 를 저장할 것이다. 그러면 우리의 서버에는 nltk를 설치할 필요가 없다. dump 메소드는 첫번째 인자로 우리가 원하는 pickle object를 받고 두번째 인자로 파이썬 object로 쓰여질 것을 넣는다. open function 안의 wb 인자는 우리가 파일을 binary mode 로 열거라는 것이도 protocol=4 는 파이썬 3.4 에서는 추가된 가장 효율적인 pcikle protocol 이다. \n",
    "\n",
    "우리는 HashingVectorizer 를 pickle 할 필요는 없는다. 그대신 우리는 파이썬 스크립트를 새로 만들어서 현재 python session 에 import 한다. "
   ]
  },
  {
   "cell_type": "markdown",
   "metadata": {},
   "source": [
    "# vectorize 와 calssfier 모델이 잘 돌아가는지 TEST"
   ]
  },
  {
   "cell_type": "code",
   "execution_count": null,
   "metadata": {
    "collapsed": true
   },
   "outputs": [],
   "source": [
    "import pickle\n",
    "import re\n",
    "import os\n",
    "from vectorizer import vect\n",
    "clf = pickle.load(open(os.path.join('pkl_objects','classifier.pkl'),'rb'))\n",
    "\n",
    "import numpy as np\n",
    "label = {0:'negative', 1:'positive'}\n",
    "example = ['I love this movie']\n",
    "X = vect.transform(example)\n",
    "print(X)\n",
    "print('Prediction: %s\\nProbability: %.2f%%' %\\\n",
    "    (label[clf.predict(X)[0]],\n",
    "    np.max(clf.predict_proba(X))*100))"
   ]
  },
  {
   "cell_type": "markdown",
   "metadata": {},
   "source": [
    "# classfiy함수와 train 함수를 정의\n",
    "\n",
    "이는 일반적인 파이썬 파일이며 이를 쟝고 프레임웤 안에 import 함으로써 사용 할 것이다"
   ]
  },
  {
   "cell_type": "code",
   "execution_count": null,
   "metadata": {
    "collapsed": true
   },
   "outputs": [],
   "source": [
    "# movieclassfier/movie_model.py\n",
    "\n",
    "import os,pickle\n",
    "from vectorizer import vect\n",
    "import numpy as np\n",
    "######## Preparing the Classifier\n",
    "cur_dir = os.path.dirname(__file__)\n",
    "clf = pickle.load(open(os.path.join(cur_dir,'pkl_objects/classifier.pkl'), 'rb'))\n",
    "\n",
    "def classify(document):\n",
    "    label = {0: 'negative', 1: 'positive'}\n",
    "    X = vect.transform([document])\n",
    "    y = clf.predict(X)[0]\n",
    "    proba = np.max(clf.predict_proba(X))\n",
    "    return label[y], proba\n",
    "    \n",
    "def train(document, y):\n",
    "    X = vect.transform([document])\n",
    "    clf.partial_fit(X, [y])"
   ]
  },
  {
   "cell_type": "markdown",
   "metadata": {},
   "source": [
    "# django framework\n",
    "\n",
    "django 는 MTV 패턴을 따른다\n",
    "\n",
    "<img src=\"http://s.profissionaisti.com.br/wp-content/uploads/2009/03/django-framework-266x300.png\" width=300 />\n",
    "\n",
    "우리의 웹 서버 주소가 https://python-ml-ch9-rimchang.c9users.io/ 라고 하자\n",
    "\n",
    "만약 https://python-ml-ch9-rimchang.c9users.io/<strong>home</strong> 이라는 request 를 사용자가 보내면\n",
    "\n",
    "urlpatcher 에서  /home 에 맞는 view 에 연결 해준다. \n",
    "\n",
    "연결된 view에서 데이터를 처리해 주고 알맞은 template에 랜더링 해준후 유저에게 보내준다"
   ]
  },
  {
   "cell_type": "markdown",
   "metadata": {},
   "source": [
    "# Setting up a SQLite database for data storage\n",
    "\n",
    "입력받은 데이터와 그 결과값들을 저장 하기 위해 sqlite db에 저장할 수 있는 구조를 만들어 준다. 이때 결과값들을 따로 저장 하는 이유는 추후에 모델을 다시 트레인 시키기 위해서이다.\n",
    "\n",
    "책에서는 파이썬 내장 sqlite3 를 가지고 db을 직접 만들었지만 이번 예제에서는 django의 model을 이용해서 db를 만들 것이다. 그 이유는 내가 django를 쓰기 때문에.... django 에서는 간편한 DB구성과 ORM , 쿼리문 들을 제공한다!!\n",
    "\n"
   ]
  },
  {
   "cell_type": "code",
   "execution_count": null,
   "metadata": {
    "collapsed": true
   },
   "outputs": [],
   "source": [
    "from __future__ import unicode_literals\n",
    "\n",
    "from django.db import models\n",
    "\n",
    "# Create your models here.\n",
    "class result(models.Model):\n",
    "    review=models.TextField(null=False,max_length=500)\n",
    "    prediction=models.IntegerField()\n",
    "    sentiment=models.IntegerField()\n",
    "\n",
    "    def __str__(self):\n",
    "        return self.review"
   ]
  },
  {
   "cell_type": "code",
   "execution_count": null,
   "metadata": {
    "collapsed": true
   },
   "outputs": [],
   "source": [
    "#django shell\n",
    "\n",
    "from my_app.models import result\n",
    "\n",
    "newresult=result()\n",
    "result.review='this movie is really good'\n",
    "result.prediction=1\n",
    "result.sentiment=1\n",
    "\n",
    "result.objects.all()"
   ]
  },
  {
   "cell_type": "markdown",
   "metadata": {},
   "source": [
    "# View를 정의\n",
    "\n",
    "get과 post 이라는 개념이 나오는데\n",
    "\n",
    "사용자가 서버에 데이터를 보내는 방법이다\n",
    "\n",
    "### get\n",
    "\n",
    "https://www.google.co.kr get 방식으로 q(qestion) 인자로 django라는 값을 넘겨준다\n",
    "\n",
    "https://www.google.co.kr/#q=django\n",
    "\n",
    "\n",
    "### post\n",
    "\n",
    "글쓰기 같은 매우 긴 텍스트나 값을 넘겨 줄때 사용"
   ]
  },
  {
   "cell_type": "code",
   "execution_count": null,
   "metadata": {
    "collapsed": true
   },
   "outputs": [],
   "source": [
    "from django.shortcuts import render\n",
    "from django.views.generic.base import View\n",
    "from forms import ReviewForm\n",
    "# Create your views here.\n",
    "from .movieclassfier.movie_model import classify,train\n",
    "from .models import result\n",
    "\n",
    "class review(View):\n",
    "    \n",
    "    def get(self,request):\n",
    "        form=ReviewForm()\n",
    "        return render(request,'review_form.html',{'form':form})\n",
    "        \n",
    "    def post(self,request):\n",
    "        form=ReviewForm(request.POST)\n",
    "        if form.is_valid():\n",
    "            review=form.data['review']\n",
    "            y,prob = classify(review)\n",
    "            return render(request,'result.html',{'review': review,'y':y,'prob':prob})\n"
   ]
  },
  {
   "cell_type": "markdown",
   "metadata": {},
   "source": [
    "이떄 뭔가 입력 받는 form 을 입력받기 위해 (html 에서의 < form> 태그 와 비슷?)\n",
    "\n",
    "forms.py 에 RevieForm 을 정의 했다. \n",
    "\n",
    "django 에서 제공해주는 forms 를 사용하는 이유는 form validation 이 편하고 \n",
    "\n",
    "modelform 이란걸 사용하여 모델이 잘 정의되 있다면 form을 쉽게 만들 수 있다."
   ]
  },
  {
   "cell_type": "code",
   "execution_count": null,
   "metadata": {
    "collapsed": true
   },
   "outputs": [],
   "source": [
    "from django import forms\n",
    "\n",
    "class ReviewForm(forms.Form):\n",
    "    review = forms.CharField(\n",
    "                            required=True,\n",
    "                            widget=forms.Textarea,\n",
    "                            error_messages={'required': 'review is required'}\n",
    "                            )"
   ]
  },
  {
   "cell_type": "markdown",
   "metadata": {},
   "source": [
    "# url patch 를 위해 urls.py 를 정의하자\n",
    "\n",
    "정규 표현식을 사용하여 urls 을 각각의 view에 연결을 해준다 2가지 정도만 알고 있으면 문제가 없다\n",
    "\n",
    "### ^ : 입력 문자열의 시작 부분에서 위치를 찾습니다\n",
    "\n",
    " ex)  \t\n",
    " ^abc -> abcdef\n",
    "\n",
    " ^a?bc -> bcdef, abcdef\n",
    "\n",
    " ### $ :  입력 문자열의 끝 부분에서 위치를 찾습니다.  \n",
    "\n",
    "ex)  \n",
    " t$ -> eat\n",
    "\n",
    " 동$ -> 홍길동\n",
    " \n",
    " \n",
    " url(r'^admin/', admin.site.urls), : admin 을 포함하는 url을 admin.site.urls 로 연결  \n",
    " \n",
    " url(r'^$',views.review.as_view(), name='review'), : root url 을 review view로 연결  \n",
    " \n",
    " url(r'^feedback$',views.feedback.as_view(), name='feedback'), : 끝이 feedback 으로 끝나는 url 을 feedback view로 연결  "
   ]
  },
  {
   "cell_type": "code",
   "execution_count": null,
   "metadata": {
    "collapsed": true
   },
   "outputs": [],
   "source": [
    "\"\"\"python_ml_ch9 URL Configuration\n",
    "\n",
    "The `urlpatterns` list routes URLs to views. For more information please see:\n",
    "    https://docs.djangoproject.com/en/1.9/topics/http/urls/\n",
    "Examples:\n",
    "Function views\n",
    "    1. Add an import:  from my_app import views\n",
    "    2. Add a URL to urlpatterns:  url(r'^$', views.home, name='home')\n",
    "Class-based views\n",
    "    1. Add an import:  from other_app.views import Home\n",
    "    2. Add a URL to urlpatterns:  url(r'^$', Home.as_view(), name='home')\n",
    "Including another URLconf\n",
    "    1. Add an import:  from blog import urls as blog_urls\n",
    "    2. Import the include() function: from django.conf.urls import url, include\n",
    "    3. Add a URL to urlpatterns:  url(r'^blog/', include(blog_urls))\n",
    "\"\"\"\n",
    "from django.conf.urls import url,include\n",
    "from django.contrib import admin\n",
    "from my_app import views\n",
    "urlpatterns = [\n",
    "    url(r'^admin/', admin.site.urls),\n",
    "    url(r'^$',views.review.as_view(), name='review'),\n",
    "]"
   ]
  },
  {
   "cell_type": "markdown",
   "metadata": {},
   "source": [
    "# 사용자에게 보여질 template 정의"
   ]
  },
  {
   "cell_type": "markdown",
   "metadata": {},
   "source": [
    "# index.html 을 정의... 우리의 사이트에 쓰일 js 와 bootstrap 들을 받아온다.\n",
    "\n",
    "다른 template 들은 이 index.html 을 확장해서 사용 할것이다.\n",
    "\n",
    "왜 이렇게 하냐면...\n",
    "\n",
    "불필요한 js, css 코드들이 중복되지 않고 html 파일들을 독립적으로 관리가능"
   ]
  },
  {
   "cell_type": "code",
   "execution_count": null,
   "metadata": {
    "collapsed": true
   },
   "outputs": [],
   "source": [
    "{% load staticfiles %}\n",
    "<!DOCTYPE html>\n",
    "<html lang=\"en\">\n",
    "<head>\n",
    "  <title>Test</title>\n",
    "  <meta charset=\"UTF-8\">\n",
    "  <meta http-equiv=\"X-UA-Compatible\" content=\"IE=edge\">\n",
    "  <meta name=\"viewport\" content=\"width=device-width, initial-scale=1\">\n",
    "\n",
    "  <!-- bootstrap -->\n",
    "  <link rel=\"stylesheet\" href=\"https://maxcdn.bootstrapcdn.com/bootstrap/3.3.6/css/bootstrap.min.css\" integrity=\"sha384-1q8mTJOASx8j1Au+a5WDVnPi2lkFfwwEAa8hDDdjZlpLegxhjVME1fgjWPGmkzs7\" crossorigin=\"anonymous\">\n",
    "\n",
    "\n",
    "</head>\n",
    "<body>\n",
    "\n",
    "  <div class=\"container\">\n",
    "    <div class=\"row\">\n",
    "  {% block content %}\n",
    "  {% endblock %}\n",
    "    </div>\n",
    "  </div><!-- /container -->\n",
    "\n",
    "  <script src=\"https://code.jquery.com/jquery-2.2.4.min.js\"></script>\n",
    "  <script src=\"https://maxcdn.bootstrapcdn.com/bootstrap/3.3.6/js/bootstrap.min.js\" integrity=\"sha384-0mSbJDEHialfmuBBQP6A4Qrprq5OVfW37PRR3j5ELqxss1yVqOtnepnHVP9aJ7xS\" crossorigin=\"anonymous\"></script>\n",
    "</body>\n",
    "</html>"
   ]
  },
  {
   "cell_type": "markdown",
   "metadata": {},
   "source": [
    "# review_form.html 정의 "
   ]
  },
  {
   "cell_type": "markdown",
   "metadata": {},
   "source": [
    "{% extends 'index.html' %}\n",
    "{% load staticfiles %}\n",
    "\t\n",
    "\t{% block content %}\n",
    "      <div class=\"col-md-12\">\n",
    "            <form class=\"form-horizontal\" action=\"{% url 'review' %}\" method=\"post\">\n",
    "\n",
    "              <div class=\"form-group\">\n",
    "                {% csrf_token %}\n",
    "                <h1>Please enter your movie review</h1>\n",
    "                \n",
    "                {{form.review}}\n",
    "                {{form.review.errors}}\n",
    "                \n",
    "              </div>\n",
    "              <div class=\"form-group\">\n",
    "                <button type=\"submit\" class=\"btn btn-primary\">Submit review</button>\n",
    "\n",
    "              </div>\n",
    "            </form>\n",
    "      </div>\n",
    "    {% endblock %}"
   ]
  },
  {
   "cell_type": "markdown",
   "metadata": {},
   "source": [
    "# Updating the movie review classifier\n",
    "\n",
    "문장을 입력 받고 그것이 positive, negative 인지 classify 하는 부분 까지 구현이 되었다.\n",
    "\n",
    "이제 하고 싶은 것은 우리의 예측값이 맞는지 틀린지 feedback 을 받는 것이다.\n",
    "\n",
    "만약 'i love this movie' 를 positive 라 했고 그게 맞다고 사용자가 알려주면 그대로 positive 라고 db에 저장하고\n",
    "\n",
    "'i love this movie'를 positive 라 했는데 사용자가 틀렸다고 feedback 해주면 negative 라고 저장 할 것이다.\n",
    "\n",
    "그리고 이렇게 모인 데이터를 모아놨다가 다시 모델을 트레이닝 하는데 쓰고 싶다.\n",
    "\n",
    "# feedback view 를 추가했다!!"
   ]
  },
  {
   "cell_type": "code",
   "execution_count": null,
   "metadata": {
    "collapsed": true
   },
   "outputs": [],
   "source": [
    "from django.shortcuts import render\n",
    "from django.views.generic.base import View\n",
    "from forms import ReviewForm\n",
    "# Create your views here.\n",
    "from .movieclassfier.movie_model import classify,train\n",
    "from .models import result\n",
    "\n",
    "class review(View):\n",
    "    \n",
    "    def get(self,request):\n",
    "        form=ReviewForm()\n",
    "        return render(request,'review_form.html',{'form':form})\n",
    "        \n",
    "    def post(self,request):\n",
    "        form=ReviewForm(request.POST)\n",
    "        if form.is_valid():\n",
    "            review=form.data['review']\n",
    "            y,prob = classify(review)\n",
    "            return render(request,'result.html',{'review': review,'y':y,'prob':prob})\n",
    "\n",
    "from django.views.decorators.csrf import csrf_exempt\n",
    "\n",
    "\n",
    "class feedback(View):\n",
    "    \n",
    "    @csrf_exempt\n",
    "    def post(self,request):\n",
    "        feedback=request.POST['feedback_button']\n",
    "        review=request.POST['review']\n",
    "        prediction=request.POST['prediction']\n",
    "        \n",
    "        inv_label={'negative':0,'positive':1}\n",
    "        y=inv_label[prediction]\n",
    "        if feedback == 'Incorrcet':\n",
    "            y=int(not(y))\n",
    "        train(review,y)\n",
    "        \n",
    "        result1=result()\n",
    "        result1.review = review\n",
    "        result1.prediction = int(inv_label[prediction])\n",
    "        result1.sentiment = int(y)\n",
    "        result1.save()\n",
    "        \n",
    "        return render(request,'thanks.html')\n",
    "    "
   ]
  },
  {
   "cell_type": "markdown",
   "metadata": {},
   "source": [
    "# urls.py 에도 feedback 과 연결"
   ]
  },
  {
   "cell_type": "code",
   "execution_count": null,
   "metadata": {
    "collapsed": true
   },
   "outputs": [],
   "source": [
    "\n",
    "from django.conf.urls import url,include\n",
    "from django.contrib import admin\n",
    "from my_app import views\n",
    "urlpatterns = [\n",
    "    url(r'^admin/', admin.site.urls),\n",
    "    url(r'^$',views.review.as_view(), name='review'),\n",
    "    url(r'^feedback$',views.feedback.as_view(), name='feedback'),\n",
    "]\n"
   ]
  },
  {
   "cell_type": "markdown",
   "metadata": {},
   "source": [
    "# result.html 정의\n",
    "\n",
    "prediction 결과와 그 확률값을 보여주고 \n",
    "\n",
    "사용자에게 피드백을 form 형식으로 받음 \n",
    "\n",
    "이때 귀찮아서 django form 안쓰고 그냥 html로 받았다."
   ]
  },
  {
   "cell_type": "code",
   "execution_count": null,
   "metadata": {
    "collapsed": true
   },
   "outputs": [],
   "source": [
    "{% extends 'index.html' %}\n",
    "{% load staticfiles %}\n",
    "\t\n",
    "\t{% block content %}\n",
    "      <div class=\"col-md-12\">\n",
    "        <h1>your moview review:</h1>\n",
    "        \n",
    "        <p>{{ review }}</p>\n",
    "        \n",
    "        <h1>Prediction :</h1>\n",
    "        \n",
    "        <p>this mivew review is <strong>{{ y }}</strong> ( prob: {{ prob }} )</p>\n",
    "\n",
    "\n",
    "          <form class=\"form-horizontal\" action=\"{% url 'feedback' %}\" method=\"post\">\n",
    "            {% csrf_token %}\n",
    "            <div class=\"form-group\">\n",
    "              \n",
    "              <input type=submit value='Correct' name='feedback_button'>\n",
    "              <input type=submit value='Incorrect' name='feedback_button'>\n",
    "              <input type=hidden value='{{ y }}' name='prediction'>\n",
    "              <input type=hidden value='{{ review }}' name='review'>\n",
    "              \n",
    "            </div>\n",
    "          </form>\n",
    "            <a href={%url 'review'  %}><button type=\"submit\" class=\"btn btn-primary\">Submit another review</button></a>\n",
    "\n",
    "\n",
    "    </div>\n",
    "\n",
    "{% endblock %}\n",
    "    \n"
   ]
  },
  {
   "cell_type": "code",
   "execution_count": null,
   "metadata": {
    "collapsed": true
   },
   "outputs": [],
   "source": [
    "{% extends 'index.html' %}\n",
    "{% load staticfiles %}\n",
    "\t\n",
    "\t{% block content %}\n",
    "      <h1>thanks your feedback</h1>\n",
    "    {% endblock %}"
   ]
  },
  {
   "cell_type": "markdown",
   "metadata": {},
   "source": [
    "# update.py 정의\n",
    "\n",
    "모델불러오고 \n",
    "\n",
    "sqlite3 db 에서 데이터를 가져온뒤에\n",
    "\n",
    "partial training 시키는 예제"
   ]
  },
  {
   "cell_type": "code",
   "execution_count": null,
   "metadata": {
    "collapsed": true
   },
   "outputs": [],
   "source": [
    "import pickle\n",
    "import sqlite3\n",
    "import numpy as np\n",
    "import os\n",
    "\n",
    "# import HashingVectorizer from local dir\n",
    "from vectorizer import vect\n",
    "\n",
    "def update_model(db_path, model, batch_size=10000):\n",
    "\n",
    "    conn = sqlite3.connect(db_path)\n",
    "    \n",
    "    c = conn.cursor()\n",
    "    c.execute('SELECT * from my_app_result')\n",
    "\n",
    "    results = c.fetchmany(batch_size)\n",
    "    while results:\n",
    "        data = np.array(results)\n",
    "        X = data[:, 1]\n",
    "        y = data[:, 3].astype(int)\n",
    "\n",
    "        classes = np.array([0, 1])\n",
    "        X_train = vect.transform(X)\n",
    "        model.partial_fit(X_train, y, classes=classes)\n",
    "        results = c.fetchmany(batch_size)\n",
    "\n",
    "    conn.close()\n",
    "    return model\n",
    "\n",
    "cur_dir = os.path.dirname(os.path.abspath(__file__))\n",
    "\n",
    "clf = pickle.load(open(os.path.join(cur_dir,\n",
    "                  'pkl_objects',\n",
    "                  'classifier.pkl'), 'rb'))\n",
    "db = os.path.join(os.path.dirname(os.path.dirname(cur_dir)),'db.sqlite3')\n",
    "print(db)\n",
    "\n",
    "\n",
    "#clf = update_model(db_path=db, model=clf, batch_size=10000)\n",
    "\n",
    "# Uncomment the following lines if you are sure that\n",
    "# you want to update your classifier.pkl file\n",
    "# permanently.\n",
    "\n",
    "pickle.dump(clf, open(os.path.join(cur_dir,\n",
    "             'pkl_objects', 'classifier.pkl'), 'wb')\n",
    "             , protocol=2)"
   ]
  }
 ],
 "metadata": {
  "kernelspec": {
   "display_name": "Python 3",
   "language": "python",
   "name": "python3"
  },
  "language_info": {
   "codemirror_mode": {
    "name": "ipython",
    "version": 3
   },
   "file_extension": ".py",
   "mimetype": "text/x-python",
   "name": "python",
   "nbconvert_exporter": "python",
   "pygments_lexer": "ipython3",
   "version": "3.5.2"
  }
 },
 "nbformat": 4,
 "nbformat_minor": 0
}
