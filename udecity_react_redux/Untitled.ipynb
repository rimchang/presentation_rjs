{
 "cells": [
  {
   "cell_type": "markdown",
   "metadata": {},
   "source": [
    "# sec3-4\n",
    "\n",
    "Tinder 구조 이해\n",
    "\n",
    "첫번째 모델 스와이핑 스크린\n",
    "\n",
    "두 가지의 데이터가 필요한데... 아직 안평가된 유저, 평가된 유저...\n",
    "\n",
    "\n",
    "# Reducer란 무엇인가\n",
    "\n",
    "reducer는 애플리케이션의 스테이트를 리턴하는 하나의 함수이다.\n",
    "\n",
    "https://dobbit.github.io/redux/docs_kr/introduction/ThreePrinciples.html\n",
    "\n"
   ]
  },
  {
   "cell_type": "markdown",
   "metadata": {},
   "source": [
    "```javascript\n",
    "import { FETCH_POSTS , FETCH_POST} from '../actions/index';\n",
    "\n",
    "\n",
    "const INITIAL_STATE = { all: [], post: null };\n",
    "\n",
    "export default function(state=INITIAL_STATE,action) {\n",
    "    switch(action.type) {\n",
    "        case FETCH_POST:\n",
    "            return { ...state,post: action.payload.data};\n",
    "        case FETCH_POSTS:\n",
    "            return { ...state, all: action.payload.data };\n",
    "        default:\n",
    "            return state;\n",
    "    }\n",
    "}\n",
    "```\n"
   ]
  },
  {
   "cell_type": "markdown",
   "metadata": {},
   "source": [
    " ...state  란???\n",
    " ```javascript\n",
    " let { x, y, ...z } = { x: 1, y: 2, a: 3, b: 4 };\n",
    "x; // 1\n",
    "y; // 2\n",
    "z; // { a: 3, b: 4 }\n",
    "```"
   ]
  },
  {
   "cell_type": "markdown",
   "metadata": {},
   "source": [
    "```javascript\n",
    "return Object.assign({}, state, {\n",
    "      visibilityFilter: action.filter\n",
    "    });\n",
    "```\n",
    "원래 이게 되야한다\n",
    "\n",
    "...state , all: someting  은\n",
    "\n",
    "state에 all만 바꿔주는것 같고\n",
    "\n",
    "{...state,...newstate} 는 state에 newstate를 추가해주는 것 같다"
   ]
  },
  {
   "cell_type": "markdown",
   "metadata": {},
   "source": [
    "# combineReducers는 단순히 보일러플레이트일 뿐이고 어떠한 매직이 아니다!!\n",
    "\n",
    "밑의 두 코드는 완전히 의미가 같다\n",
    "\n",
    "```javascript\n",
    "const reducer = combineReducers({\n",
    "  a: doSomethingWithA,\n",
    "  b: processB,\n",
    "  c: c\n",
    "});\n",
    "\n",
    "\n",
    "function reducer(state, action) {\n",
    "  return {\n",
    "    a: doSomethingWithA(state.a, action),\n",
    "    b: processB(state.b, action),\n",
    "    c: c(state.c, action)\n",
    "  };\n",
    "}\n",
    "```"
   ]
  },
  {
   "cell_type": "markdown",
   "metadata": {},
   "source": [
    "# 리듀서 쪼개기\n",
    "```javascript\n",
    "function todoApp(state = initialState, action) {\n",
    "  switch (action.type) {\n",
    "  case SET_VISIBILITY_FILTER:\n",
    "    return Object.assign({}, state, {\n",
    "      visibilityFilter: action.filter\n",
    "    });\n",
    "  case ADD_TODO:\n",
    "    return Object.assign({}, state, {\n",
    "      todos: [...state.todos, {\n",
    "        text: action.text,\n",
    "        completed: false\n",
    "      }]\n",
    "    });\n",
    "  case COMPLETE_TODO:\n",
    "    return Object.assign({}, state, {\n",
    "      todos: [\n",
    "        ...state.todos.slice(0, action.index),\n",
    "        Object.assign({}, state.todos[action.index], {\n",
    "          completed: true\n",
    "        }),\n",
    "        ...state.todos.slice(action.index + 1)\n",
    "      ]\n",
    "    });\n",
    "  default:\n",
    "    return state;\n",
    "  }\n",
    "}\n",
    "\n",
    "//쪼개기\n",
    "\n",
    "function todos(state = [], action) {\n",
    "  switch (action.type) {\n",
    "  case ADD_TODO:\n",
    "    return [...state, {\n",
    "      text: action.text,\n",
    "      completed: false\n",
    "    }];\n",
    "  case COMPLETE_TODO:\n",
    "    return [\n",
    "      ...state.slice(0, action.index),\n",
    "      Object.assign({}, state[action.index], {\n",
    "        completed: true\n",
    "      }),\n",
    "      ...state.slice(action.index + 1)\n",
    "    ];\n",
    "  default:\n",
    "    return state;\n",
    "  }\n",
    "}\n",
    "\n",
    "function todoApp(state = initialState, action) {\n",
    "  switch (action.type) {\n",
    "  case SET_VISIBILITY_FILTER:\n",
    "    return Object.assign({}, state, {\n",
    "      visibilityFilter: action.filter\n",
    "    });\n",
    "  case ADD_TODO:\n",
    "  case COMPLETE_TODO:\n",
    "    return Object.assign({}, state, {\n",
    "      todos: todos(state.todos, action)\n",
    "    });\n",
    "  default:\n",
    "    return state;\n",
    "  }\n",
    "}\n",
    "```"
   ]
  },
  {
   "cell_type": "code",
   "execution_count": null,
   "metadata": {
    "collapsed": true
   },
   "outputs": [],
   "source": []
  }
 ],
 "metadata": {
  "kernelspec": {
   "display_name": "Python 3",
   "language": "python",
   "name": "python3"
  },
  "language_info": {
   "codemirror_mode": {
    "name": "ipython",
    "version": 3
   },
   "file_extension": ".py",
   "mimetype": "text/x-python",
   "name": "python",
   "nbconvert_exporter": "python",
   "pygments_lexer": "ipython3",
   "version": "3.5.2"
  }
 },
 "nbformat": 4,
 "nbformat_minor": 0
}
